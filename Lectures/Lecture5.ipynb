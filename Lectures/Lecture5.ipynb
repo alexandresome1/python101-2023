{
 "cells": [
  {
   "cell_type": "markdown",
   "metadata": {},
   "source": [
    "# Lecture 5\n",
    "  "
   ]
  },
  {
   "cell_type": "markdown",
   "metadata": {},
   "source": [
    "Helpful hint for doing Markdown stuff:\n",
    "https://medium.com/analytics-vidhya/the-ultimate-markdown-guide-for-jupyter-notebook-d5e5abf728fd"
   ]
  },
  {
   "cell_type": "markdown",
   "metadata": {},
   "source": [
    "## Review\n",
    "\n",
    "At this point you should be able to: \n",
    "\n",
    "    - Load and work inside a Python Environment (Conda/VSCode)\n",
    "    - Perform basic Git functions for maintaining code\n",
    "    - Work with common built-in data types (Strings, Lists, Tuples, Dictionaries, etc.)\n",
    "    - Understand OOP high level basics\n",
    "    - Build logical if, else, elif statements\n",
    "    - Use for and while loops to perform basic functions\n",
    "    - import some key packages\n",
    "    - Generate some data, and perform basic linear algebra on matrices and vectors\n",
    "\n",
    "Where do we go from here? \n",
    "\n",
    "    - More realistic approaches to writing code\n",
    "    - More realistic data generation/use/visualization\n",
    "    - Working with Images\n",
    "    - Writing a program to complete an objective: Mene generation \n"
   ]
  },
  {
   "cell_type": "markdown",
   "metadata": {},
   "source": [
    "## Test- Driven Code Design\n",
    "\n",
    "Start from your high-level requirements, and build the overall structure first before attempting to build individual functionality. \n",
    "\n",
    "We'll cover this on the board with pictures. \n",
    "\n",
    "Unit testing is useful, and often critical in understanding large code structures, but for smaller, research-focused programs, the test-driven approach will meet most needs that unit testing would provide. This reduces the overall amount of scripts necessary as well as the need for an entirely separate section of code simply for confirming the first stuff works right. \n",
    "\n",
    "    BUT if you're not sure at any point, including unit tests is still a good practice. "
   ]
  },
  {
   "cell_type": "code",
   "execution_count": 1,
   "metadata": {},
   "outputs": [
    {
     "name": "stdout",
     "output_type": "stream",
     "text": [
      "This is where things actually happen\n"
     ]
    }
   ],
   "source": [
    "# The MAIN deal: \n",
    "\n",
    "def main():\n",
    "    print('This is where things actually happen')\n",
    "\n",
    "\n",
    "\n",
    "if __name__ == \"__main__\":\n",
    "    main()\n"
   ]
  },
  {
   "cell_type": "markdown",
   "metadata": {},
   "source": [
    "## Example: Virtual Dog-Racing!!!\n",
    "\n",
    "No, we do not mistreat our athletes, so please don't ask. They love what they do and are well compensated. They retire and have very happy lives. \n"
   ]
  },
  {
   "cell_type": "markdown",
   "metadata": {},
   "source": [
    "<img src=\"Tazzy.jpg\" width=\"650\" height=\"500\">"
   ]
  },
  {
   "cell_type": "markdown",
   "metadata": {},
   "source": [
    "So how are we going to make a program that creates an overall dog race? \n",
    "\n",
    "With some POOP of course! (Python Object Oriented Programming). Please don't ever say that seriously.... there is a reason it's referred to as OOP in Python instead.... "
   ]
  },
  {
   "cell_type": "markdown",
   "metadata": {},
   "source": [
    "## OOP with Python Textbook Knowledge\n",
    "\n",
    "***Encapsulation***\n",
    "\n",
    "    - reduce complexity and increase reusability\n",
    "\n",
    "***Abstraction***\n",
    "\n",
    "    - reduce complexity and isolate impact of changes\n",
    "***Inheritence***\n",
    "\n",
    "    - Eliminate redundant code\n",
    "***Polymorphism***\n",
    "\n",
    "    - remove excessive switch/case statements"
   ]
  },
  {
   "cell_type": "markdown",
   "metadata": {},
   "source": [
    "### We Will Do this Together\n",
    "race\n",
    "    get racers\n",
    "    inspect racers\n",
    "    START\n",
    "        initiates the beginning of the race\n",
    "        Dogs compete\n",
    "        Pause\n",
    "    Midpoint\n",
    "        Reassess positions and rankings\n",
    "    END\n",
    "        final results from race! \n",
    "    \n",
    "\n"
   ]
  },
  {
   "cell_type": "markdown",
   "metadata": {},
   "source": [
    "### UML Diagrams\n",
    "    Race \n",
    "        Attr\n",
    "        Methods\n",
    "\n",
    "    Dog\n",
    "        Attr\n",
    "        Methods"
   ]
  },
  {
   "cell_type": "markdown",
   "metadata": {},
   "source": [
    "# Race Class, which should be the overall primary stuff\n",
    "***Algorithm 1*** -**THE GREAT RACE**\n",
    "***\n",
    "**Inputs** unorderedList(racers), float(length of race), \n",
    "\n",
    "\n",
    "**Outputs** orderedList(racers by finish time)\n",
    "\n",
    "Initialization\n",
    "\n",
    "for or while loop: \n",
    "> Things inside first loop $\\sqrt(x)$\n",
    "\n",
    "> More things in loop $x^{z-q}\\det(\\mathbf{P})$\n",
    "\n",
    "> Inner Loop 1: \n",
    " >> Things inside inner loop! \n",
    "\n"
   ]
  },
  {
   "cell_type": "code",
   "execution_count": null,
   "metadata": {},
   "outputs": [],
   "source": []
  },
  {
   "cell_type": "code",
   "execution_count": null,
   "metadata": {},
   "outputs": [],
   "source": []
  }
 ],
 "metadata": {
  "kernelspec": {
   "display_name": "Python 3",
   "language": "python",
   "name": "python3"
  },
  "language_info": {
   "codemirror_mode": {
    "name": "ipython",
    "version": 3
   },
   "file_extension": ".py",
   "mimetype": "text/x-python",
   "name": "python",
   "nbconvert_exporter": "python",
   "pygments_lexer": "ipython3",
   "version": "3.11.4"
  },
  "orig_nbformat": 4
 },
 "nbformat": 4,
 "nbformat_minor": 2
}
