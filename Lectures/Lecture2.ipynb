{
 "cells": [
  {
   "attachments": {},
   "cell_type": "markdown",
   "metadata": {},
   "source": [
    "# Lecture 2"
   ]
  },
  {
   "attachments": {},
   "cell_type": "markdown",
   "metadata": {},
   "source": [
    "## Review\n",
    "Sign in Roster: \n",
    "\n",
    "    * Name\n",
    "    * AU email (if you have one, personal if you don't)\n",
    "    * github username \n",
    "    \n",
    "\n",
    "Environment choice can have a significant impact on configuration control. Several methods exist for control, be it through package management systems like Conda, or through strict Docker implementation. Regardless, version numbers are important to know, and building the correct environment for your problem is key. Configuration management on a greater scale can be achieved with using code repositories such as GitHub (GitLab, GitHub Classroom, etc.).\n",
    "\n",
    "For this course we will be using miniconda and VSCode. (See instructions from Dr. Taylor video below)"
   ]
  },
  {
   "attachments": {},
   "cell_type": "markdown",
   "metadata": {},
   "source": [
    "## Git Basics\n",
    "Video of Dr. Taylor installing Git, Miniconda, and VSCode for Microsoft Machines: \n",
    "\n",
    "        https://drive.google.com/file/d/1BizOH_LtS0wUka2xt4p_CXj9I-s8jn01/view?ts=64f878b5\n",
    "        https://drive.google.com/file/d/19mw0TTd7cyjQzevqSWETz4_p1j_CwthB/view?ts=64f878d9\n",
    "\n",
    "If you are working on Linux (my preferred usually), then you can install miniconda using: \n",
    "\n",
    "        https://docs.conda.io/projects/conda/en/latest/user-guide/install/linux.html\n",
    "\n",
    "Key commands you'll need to know: \n",
    "        \n",
    "        * git clone\n",
    "        * git pull\n",
    "        * git add \n",
    "        * git commit\n",
    "        * git push\n"
   ]
  },
  {
   "attachments": {},
   "cell_type": "markdown",
   "metadata": {},
   "source": [
    "### Side-Chat about Markdown vs. Notebooks\n",
    "The lectures will be a mix between Power Point and Jupyter Notebooks. Many courses will utilize a raw Markdown file (.md) for instructions. Jupyter notebooks allow you to run Python Code inbetween sections of markdown, allowing for clean lectures, BUT not the best Python performance. "
   ]
  },
  {
   "attachments": {},
   "cell_type": "markdown",
   "metadata": {},
   "source": [
    "## Data Structures \n"
   ]
  },
  {
   "cell_type": "markdown",
   "metadata": {},
   "source": [
    "### Strings\n",
    "Double or Single quote\n",
    "f strings allow for input without .format() or other complications"
   ]
  },
  {
   "cell_type": "code",
   "execution_count": 2,
   "metadata": {},
   "outputs": [
    {
     "name": "stdout",
     "output_type": "stream",
     "text": [
      "the cool stuff is here: 42\n"
     ]
    }
   ],
   "source": [
    "\n",
    "single = 'single quote'\n",
    "double = \"double quote\"\n",
    "\n",
    "cool_stuff = 42\n",
    "cool_fstring = f'the cool stuff is here: {cool_stuff}'\n",
    "\n",
    "print(cool_fstring)"
   ]
  },
  {
   "cell_type": "markdown",
   "metadata": {},
   "source": [
    "### Lists\n",
    "\n",
    "* A list is a dynamic array/sequence.\n",
    "* It is ordered and indexable.\n",
    "* A list is mutable.\n"
   ]
  },
  {
   "cell_type": "code",
   "execution_count": 5,
   "metadata": {},
   "outputs": [
    {
     "name": "stdout",
     "output_type": "stream",
     "text": [
      "[1, 4, 5, 4, 'A']\n",
      "4\n"
     ]
    },
    {
     "data": {
      "text/plain": [
       "['__add__',\n",
       " '__class__',\n",
       " '__class_getitem__',\n",
       " '__contains__',\n",
       " '__delattr__',\n",
       " '__delitem__',\n",
       " '__dir__',\n",
       " '__doc__',\n",
       " '__eq__',\n",
       " '__format__',\n",
       " '__ge__',\n",
       " '__getattribute__',\n",
       " '__getitem__',\n",
       " '__gt__',\n",
       " '__hash__',\n",
       " '__iadd__',\n",
       " '__imul__',\n",
       " '__init__',\n",
       " '__init_subclass__',\n",
       " '__iter__',\n",
       " '__le__',\n",
       " '__len__',\n",
       " '__lt__',\n",
       " '__mul__',\n",
       " '__ne__',\n",
       " '__new__',\n",
       " '__reduce__',\n",
       " '__reduce_ex__',\n",
       " '__repr__',\n",
       " '__reversed__',\n",
       " '__rmul__',\n",
       " '__setattr__',\n",
       " '__setitem__',\n",
       " '__sizeof__',\n",
       " '__str__',\n",
       " '__subclasshook__',\n",
       " 'append',\n",
       " 'clear',\n",
       " 'copy',\n",
       " 'count',\n",
       " 'extend',\n",
       " 'index',\n",
       " 'insert',\n",
       " 'pop',\n",
       " 'remove',\n",
       " 'reverse',\n",
       " 'sort']"
      ]
     },
     "execution_count": 5,
     "metadata": {},
     "output_type": "execute_result"
    }
   ],
   "source": [
    "sample_list = []\n",
    "init_list = list()\n",
    "\n",
    "L=[1,4,5,4,\"A\"]  # Building a List\n",
    "print(L)\n",
    "print(L[3])\n",
    "L[3] = 0\n",
    "dir(L)\n",
    "\n"
   ]
  },
  {
   "cell_type": "markdown",
   "metadata": {},
   "source": [
    "### Tuples\n",
    "\n",
    "* A tuple is a sequence.\n",
    "* A tuple is immutable."
   ]
  },
  {
   "cell_type": "code",
   "execution_count": 6,
   "metadata": {},
   "outputs": [
    {
     "name": "stdout",
     "output_type": "stream",
     "text": [
      "(1, 4, 5, 4, 'A')\n",
      "4\n"
     ]
    },
    {
     "ename": "TypeError",
     "evalue": "'tuple' object does not support item assignment",
     "output_type": "error",
     "traceback": [
      "\u001b[1;31m---------------------------------------------------------------------------\u001b[0m",
      "\u001b[1;31mTypeError\u001b[0m                                 Traceback (most recent call last)",
      "Cell \u001b[1;32mIn[6], line 7\u001b[0m\n\u001b[0;32m      5\u001b[0m \u001b[39mprint\u001b[39m(t)\n\u001b[0;32m      6\u001b[0m \u001b[39mprint\u001b[39m(t[\u001b[39m3\u001b[39m])\n\u001b[1;32m----> 7\u001b[0m t[\u001b[39m3\u001b[39m] \u001b[39m=\u001b[39m \u001b[39m0\u001b[39m\n\u001b[0;32m      8\u001b[0m \u001b[39m#TypeError: 'tuple' object does not support item assignment\u001b[39;00m\n\u001b[0;32m      9\u001b[0m \u001b[39mdir\u001b[39m(t)\n",
      "\u001b[1;31mTypeError\u001b[0m: 'tuple' object does not support item assignment"
     ]
    }
   ],
   "source": [
    "sample_tuple = ()\n",
    "init_tuple = tuple()\n",
    "\n",
    "t=(1,4,5,4,\"A\") # Building a Tuple\n",
    "print(t)\n",
    "print(t[3])\n",
    "t[3] = 0\n",
    "#TypeError: 'tuple' object does not support item assignment\n",
    "dir(t)"
   ]
  },
  {
   "cell_type": "markdown",
   "metadata": {},
   "source": [
    "### Extra List/ Tuple Things"
   ]
  },
  {
   "cell_type": "code",
   "execution_count": 38,
   "metadata": {},
   "outputs": [
    {
     "name": "stdout",
     "output_type": "stream",
     "text": [
      "list1  [1, 2, 3, 'Hello', 'World']\n",
      "list1: [1, 2, 3, 'Hello', 'World']\n",
      "True\n",
      "False\n",
      "True\n"
     ]
    }
   ],
   "source": [
    "# Operators for Lists\n",
    "\n",
    "# Note we do not have to import anything for list\n",
    "list1 = [1,2,3]\n",
    "list2 = [\"Hello\", \"World\"]\n",
    "list1 + list2\n",
    "list1 * 4\n",
    "list1 += list2\n",
    "print(\"list1 \", list1)\n",
    "print(f'list1 {list1}')\n",
    "\n",
    "# The almighty in\n",
    "a = [11, 22, 33]\n",
    "print(22 in a)\n",
    "print(44 in a)\n",
    "a.append(44)\n",
    "print(44 in a)\n",
    "\n",
    "# If you know the desired length of list, preallocate the list and then index through it. "
   ]
  },
  {
   "cell_type": "markdown",
   "metadata": {},
   "source": [
    "## Dictionaries\n",
    "\n",
    "Built-in combination of a matched key and value pair {key, value}"
   ]
  },
  {
   "cell_type": "code",
   "execution_count": 46,
   "metadata": {},
   "outputs": [
    {
     "name": "stdout",
     "output_type": "stream",
     "text": [
      "{}\n",
      "{'IM NUMBER ONE!': 'Clark'}\n",
      "{'aa': 1, 'bb': 2, 'cc': 3}\n",
      "aa\n",
      "bb\n",
      "cc\n",
      "aa\n",
      "bb\n",
      "cc\n",
      "dict_keys(['aa', 'bb', 'cc'])\n",
      "1\n",
      "2\n",
      "3\n"
     ]
    }
   ],
   "source": [
    "sample_dict = {}\n",
    "print(sample_dict)\n",
    "\n",
    "sample_dict['IM NUMBER ONE!'] = 'Clark'\n",
    "print(sample_dict)\n",
    "\n",
    "\n",
    "dd = {'aa': 1, 'bb': 2, 'cc': 3}\n",
    "print(dd)\n",
    "\n",
    "sample_dict.update(dd)\n",
    "# getting keys\n",
    "# method 1\n",
    "for key1 in dd: \n",
    "    print(key1)\n",
    "\n",
    "# method 2\n",
    "for key in dd.keys():\n",
    "    print(key)\n",
    "\n",
    "print(dd.keys())\n",
    "\n",
    "# How do we get the values? \n",
    "for v in dd.values():\n",
    "    print(v)\n"
   ]
  },
  {
   "cell_type": "markdown",
   "metadata": {},
   "source": [
    "But what do we do if the key or value we're looking for doesn't exist?"
   ]
  },
  {
   "cell_type": "code",
   "execution_count": 1,
   "metadata": {},
   "outputs": [
    {
     "ename": "NameError",
     "evalue": "name 'dd' is not defined",
     "output_type": "error",
     "traceback": [
      "\u001b[1;31m---------------------------------------------------------------------------\u001b[0m",
      "\u001b[1;31mNameError\u001b[0m                                 Traceback (most recent call last)",
      "\u001b[1;32mc:\\Users\\alexa\\OneDrive\\Desktop\\python101-2023\\Lectures\\Lecture2.ipynb Cell 17\u001b[0m line \u001b[0;36m1\n\u001b[1;32m----> <a href='vscode-notebook-cell:/c%3A/Users/alexa/OneDrive/Desktop/python101-2023/Lectures/Lecture2.ipynb#X22sZmlsZQ%3D%3D?line=0'>1</a>\u001b[0m \u001b[39mprint\u001b[39m(dd[\u001b[39m'\u001b[39m\u001b[39maa\u001b[39m\u001b[39m'\u001b[39m])\n\u001b[0;32m      <a href='vscode-notebook-cell:/c%3A/Users/alexa/OneDrive/Desktop/python101-2023/Lectures/Lecture2.ipynb#X22sZmlsZQ%3D%3D?line=1'>2</a>\u001b[0m \u001b[39mprint\u001b[39m(dd[\u001b[39m'\u001b[39m\u001b[39mcc\u001b[39m\u001b[39m'\u001b[39m])\n\u001b[0;32m      <a href='vscode-notebook-cell:/c%3A/Users/alexa/OneDrive/Desktop/python101-2023/Lectures/Lecture2.ipynb#X22sZmlsZQ%3D%3D?line=3'>4</a>\u001b[0m \u001b[39mprint\u001b[39m(dd[\u001b[39m'\u001b[39m\u001b[39mGetGudGrades\u001b[39m\u001b[39m'\u001b[39m])\n",
      "\u001b[1;31mNameError\u001b[0m: name 'dd' is not defined"
     ]
    }
   ],
   "source": [
    "print(dd['aa'])\n",
    "print(dd['cc'])\n",
    "\n",
    "print(dd['GetGudGrades'])\n"
   ]
  },
  {
   "cell_type": "code",
   "execution_count": 34,
   "metadata": {},
   "outputs": [
    {
     "name": "stdout",
     "output_type": "stream",
     "text": [
      "None\n",
      "2\n"
     ]
    },
    {
     "data": {
      "text/plain": [
       "-1"
      ]
     },
     "execution_count": 34,
     "metadata": {},
     "output_type": "execute_result"
    }
   ],
   "source": [
    "print(dd.get('GoodGrades'))\n",
    "\n",
    "print(dd.get('bb', -1))\n",
    "(dd.get('GetGudGrades', -1))"
   ]
  },
  {
   "cell_type": "markdown",
   "metadata": {},
   "source": [
    "What if you want both the key and the value? \n",
    "\n",
    "items()"
   ]
  },
  {
   "cell_type": "code",
   "execution_count": 36,
   "metadata": {},
   "outputs": [
    {
     "name": "stdout",
     "output_type": "stream",
     "text": [
      "dict_items([('aa', 1), ('bb', 2), ('cc', 3)])\n",
      "Key: aa, Value: 1\n",
      "Key: bb, Value: 2\n",
      "Key: cc, Value: 3\n"
     ]
    }
   ],
   "source": [
    "print(dd.items())\n",
    "\n",
    "for key, value in dd.items():\n",
    "    print(f'Key: {key}, Value: {value}')"
   ]
  },
  {
   "attachments": {},
   "cell_type": "markdown",
   "metadata": {},
   "source": [
    "## Intro to Object Oriented Programing (OOP)\n",
    "\n",
    "* Classes\n",
    "* Attributes\n",
    "* Methods"
   ]
  },
  {
   "cell_type": "code",
   "execution_count": 42,
   "metadata": {},
   "outputs": [],
   "source": [
    "class Dog():\n",
    "    \"\"\" Dogs are the best\"\"\"\n",
    "    # No attributes yet\n",
    "    # No Init....THIS IS BAD PRACTICE DON'T DO THIS\n",
    "\n",
    "    # Only 1 method\n",
    "    def fetch(self, toy:str = 'ball') -> str:\n",
    "        return toy"
   ]
  },
  {
   "cell_type": "code",
   "execution_count": 17,
   "metadata": {},
   "outputs": [
    {
     "name": "stdout",
     "output_type": "stream",
     "text": [
      "<__main__.Dog object at 0x000001DA5252DBD0>\n",
      "black\n",
      "ball\n"
     ]
    }
   ],
   "source": [
    "Cass = Dog()\n",
    "Cass.color = 'black'\n",
    "print(Cass)\n",
    "print(Cass.color)\n",
    "\n",
    "returned_toy = Cass.fetch()\n",
    "print(returned_toy)\n",
    "\n"
   ]
  },
  {
   "attachments": {},
   "cell_type": "markdown",
   "metadata": {},
   "source": [
    "## HOMEWORK\n",
    "\n",
    "* Get a working Environment of your choice. Be able to run these Notebooks\n",
    "* Post Youtube links to AU Teams (when added)\n",
    "* Clone course git repo (https://github.com/tmachin-afit/python101-2023.git)"
   ]
  }
 ],
 "metadata": {
  "kernelspec": {
   "display_name": "eeng765",
   "language": "python",
   "name": "python3"
  },
  "language_info": {
   "codemirror_mode": {
    "name": "ipython",
    "version": 3
   },
   "file_extension": ".py",
   "mimetype": "text/x-python",
   "name": "python",
   "nbconvert_exporter": "python",
   "pygments_lexer": "ipython3",
   "version": "3.11.4"
  },
  "orig_nbformat": 4
 },
 "nbformat": 4,
 "nbformat_minor": 2
}
